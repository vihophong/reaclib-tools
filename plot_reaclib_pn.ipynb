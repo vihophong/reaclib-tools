{
 "cells": [
  {
   "cell_type": "markdown",
   "metadata": {},
   "source": [
    "## Load functions"
   ]
  },
  {
   "cell_type": "code",
   "execution_count": 1,
   "metadata": {},
   "outputs": [],
   "source": [
    "import rlload as rl\n"
   ]
  },
  {
   "cell_type": "markdown",
   "metadata": {},
   "source": [
    "## Plotting"
   ]
  },
  {
   "cell_type": "code",
   "execution_count": 2,
   "metadata": {},
   "outputs": [
    {
     "ename": "NameError",
     "evalue": "name 'plt' is not defined",
     "output_type": "error",
     "traceback": [
      "\u001b[0;31m\u001b[0m",
      "\u001b[0;31mNameError\u001b[0mTraceback (most recent call last)",
      "\u001b[0;32m<ipython-input-2-52d38d978a9b>\u001b[0m in \u001b[0;36m<module>\u001b[0;34m()\u001b[0m\n\u001b[1;32m     42\u001b[0m \u001b[0my1\u001b[0m \u001b[0;34m=\u001b[0m \u001b[0;36m0\u001b[0m\u001b[0;34m;\u001b[0m \u001b[0my2\u001b[0m \u001b[0;34m=\u001b[0m \u001b[0;36m115\u001b[0m\u001b[0;34m\u001b[0m\u001b[0m\n\u001b[1;32m     43\u001b[0m \u001b[0;34m\u001b[0m\u001b[0m\n\u001b[0;32m---> 44\u001b[0;31m \u001b[0mplt\u001b[0m\u001b[0;34m.\u001b[0m\u001b[0mrcParams\u001b[0m\u001b[0;34m[\u001b[0m\u001b[0;34m\"figure.figsize\"\u001b[0m\u001b[0;34m]\u001b[0m \u001b[0;34m=\u001b[0m \u001b[0;34m(\u001b[0m\u001b[0;36m5\u001b[0m\u001b[0;34m,\u001b[0m \u001b[0;36m5\u001b[0m\u001b[0;34m)\u001b[0m\u001b[0;34m\u001b[0m\u001b[0m\n\u001b[0m\u001b[1;32m     45\u001b[0m \u001b[0mplt\u001b[0m\u001b[0;34m.\u001b[0m\u001b[0mrcParams\u001b[0m\u001b[0;34m[\u001b[0m\u001b[0;34m\"font.size\"\u001b[0m\u001b[0;34m]\u001b[0m \u001b[0;34m=\u001b[0m \u001b[0;36m20\u001b[0m\u001b[0;34m\u001b[0m\u001b[0m\n\u001b[1;32m     46\u001b[0m \u001b[0;34m\u001b[0m\u001b[0m\n",
      "\u001b[0;31mNameError\u001b[0m: name 'plt' is not defined"
     ]
    }
   ],
   "source": [
    "infile = \"results02090719.txt\"\n",
    "\n",
    "reaclib = rl.load_txt(infile)\n",
    "\n",
    "res0n = filter(lambda cond: (cond[\"rtype\"]==\"w\" and cond[\"nucA\"][0]==cond[\"nucA\"][1] and cond[\"nucZ\"][0]==cond[\"nucZ\"][1]-1 and cond[\"chap\"] == 1),reaclib)\n",
    "res1n = filter(lambda cond: (cond[\"rtype\"]==\"w\" and cond[\"nucA\"][0]==cond[\"nucA\"][2]+1 and cond[\"nucZ\"][0]==cond[\"nucZ\"][2]-1 and cond[\"chap\"] == 2),reaclib)\n",
    "res2n = filter(lambda cond: (cond[\"rtype\"]==\"w\" and cond[\"nucA\"][0]==cond[\"nucA\"][3]+2 and cond[\"nucZ\"][0]==cond[\"nucZ\"][3]-1 and cond[\"chap\"] == 3),reaclib)\n",
    "res3n = filter(lambda cond: (cond[\"rtype\"]==\"w\" and cond[\"nucA\"][0]==cond[\"nucA\"][4]+3 and cond[\"nucZ\"][0]==cond[\"nucZ\"][4]-1 and cond[\"chap\"] == 11),reaclib)\n",
    "\n",
    "resall = filter(lambda cond: ((cond[\"rtype\"]==\"w\" and cond[\"nucA\"][0]==cond[\"nucA\"][4]+3 and cond[\"nucZ\"][0]==cond[\"nucZ\"][4]-1 and cond[\"chap\"] == 11) or \\\n",
    "\t(cond[\"rtype\"]==\"w\" and cond[\"nucA\"][0]==cond[\"nucA\"][3]+2 and cond[\"nucZ\"][0]==cond[\"nucZ\"][3]-1 and cond[\"chap\"] == 3) or \\\n",
    "\t(cond[\"rtype\"]==\"w\" and cond[\"nucA\"][0]==cond[\"nucA\"][2]+1 and cond[\"nucZ\"][0]==cond[\"nucZ\"][2]-1 and cond[\"chap\"] == 2) or \\\n",
    "\t(cond[\"rtype\"]==\"w\" and cond[\"nucA\"][0]==cond[\"nucA\"][1] and cond[\"nucZ\"][0]==cond[\"nucZ\"][1]-1 and cond[\"chap\"] == 1)),reaclib)\n",
    " \n",
    "\n",
    "n_0n = []; z_0n = [] \n",
    "for index in range(len(res0n)):\n",
    "\tz_0n.append(res0n[index][\"nucZ\"][0])\n",
    "\tn_0n.append(res0n[index][\"nucA\"][0]-res0n[index][\"nucZ\"][0])\n",
    "\t#print res0n[index][\"nuc\"][0],res0n[index][\"nuc\"][1]\n",
    "\n",
    "n_1n = []; z_1n = [] \n",
    "for index in range(len(res1n)):\n",
    "\tz_1n.append(res1n[index][\"nucZ\"][0])\n",
    "\tn_1n.append(res1n[index][\"nucA\"][0]-res1n[index][\"nucZ\"][0])\n",
    "\t#print res1n[index][\"nuc\"][0],res1n[index][\"nuc\"][1],res1n[index][\"nuc\"][2]\n",
    "\n",
    "n_2n = []; z_2n = [] \n",
    "for index in range(len(res2n)):\n",
    "\tz_2n.append(res2n[index][\"nucZ\"][0])\n",
    "\tn_2n.append(res2n[index][\"nucA\"][0]-res2n[index][\"nucZ\"][0])\n",
    "\t#print res2n[index][\"nuc\"][0],res2n[index][\"nuc\"][1],res2n[index][\"nuc\"][2],res2n[index][\"nuc\"][3]\n",
    "\n",
    "n_3n = []; z_3n = [] \n",
    "for index in range(len(res3n)):\n",
    "\tz_3n.append(res3n[index][\"nucZ\"][0])\n",
    "\tn_3n.append(res3n[index][\"nucA\"][0]-res3n[index][\"nucZ\"][0])\n",
    "\t#print res3n[index][\"nuc\"][0],res3n[index][\"nuc\"][1],res3n[index][\"nuc\"][2],res3n[index][\"nuc\"][3],res3n[index][\"nuc\"][4]\n",
    "\n",
    "\n",
    "#for index in range(len(resall)):\n",
    "\t#print resall[index][\"label\"],resall[index][\"nuc\"][0],resall[index][\"nuc\"][1],resall[index][\"nuc\"][2],resall[index][\"nuc\"][3],resall[index][\"nuc\"][4]\n",
    "\n",
    "x1 = 0; x2 = 240\n",
    "y1 = 0; y2 = 115\n",
    "\n",
    "plt.rcParams[\"figure.figsize\"] = (5, 5)\n",
    "plt.rcParams[\"font.size\"] = 20\n",
    "\n",
    "plt.xlim(x1,x2)\n",
    "plt.ylim(y1,y2)\n",
    "\n",
    "plt.xlabel('Neutron number, $N$')\n",
    "plt.ylabel('Proton number, $Z$')\n",
    "\n",
    "plt.plot(n_0n, z_0n, 's', markersize = 6, label = \"p0n\")\n",
    "plt.plot(n_1n, z_1n, 's', markersize = 6, label = \"p1n\")\n",
    "plt.plot(n_2n, z_2n, 's', markersize = 6, label = \"p2n\")\n",
    "plt.plot(n_3n, z_3n, 's', markersize = 6, label = \"p3n\")\n",
    "\n",
    "\n",
    "plt.legend()\n",
    "\n",
    "plt.show()"
   ]
  },
  {
   "cell_type": "code",
   "execution_count": null,
   "metadata": {},
   "outputs": [],
   "source": []
  }
 ],
 "metadata": {
  "kernelspec": {
   "display_name": "Python 3",
   "language": "python",
   "name": "python3"
  },
  "language_info": {
   "codemirror_mode": {
    "name": "ipython",
    "version": 2
   },
   "file_extension": ".py",
   "mimetype": "text/x-python",
   "name": "python",
   "nbconvert_exporter": "python",
   "pygments_lexer": "ipython2",
   "version": "2.7.16"
  }
 },
 "nbformat": 4,
 "nbformat_minor": 2
}
