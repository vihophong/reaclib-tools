{
 "cells": [
  {
   "cell_type": "code",
   "execution_count": 1,
   "metadata": {},
   "outputs": [
    {
     "name": "stdout",
     "output_type": "stream",
     "text": [
      "Welcome to JupyROOT 6.24/00\n"
     ]
    }
   ],
   "source": [
    "from __future__ import print_function\n",
    "import struct\n",
    "import numpy as np\n",
    "import math\n",
    "import os\n",
    "import sys\n",
    "import ROOT\n",
    "import array\n",
    "import matplotlib.pyplot as plt\n",
    "\n",
    "import matplotlib.pylab as pltt\n",
    "from mpl_toolkits.axes_grid1 import make_axes_locatable\n",
    "from matplotlib.colors import LogNorm\n",
    "from matplotlib.patches import Ellipse,Arrow\n",
    "from matplotlib.ticker import MaxNLocator\n",
    "from matplotlib.ticker import (MultipleLocator, AutoMinorLocator)\n",
    "\n",
    "import matplotlib\n",
    "font = {'family' : 'Times New Roman',\n",
    "        'weight' : 'normal',\n",
    "        'size'   : 36}\n",
    "matplotlib.rc('font', **font)\n",
    "import matplotlib.font_manager as font_manager"
   ]
  },
  {
   "cell_type": "code",
   "execution_count": 2,
   "metadata": {},
   "outputs": [],
   "source": [
    "elements={\"h\": 1, \"he\": 2, \"li\": 3, \"be\": 4, \"b\": 5, \"c\": 6, \"n\": 7, \"o\": 8, \"f\": 9, \"ne\": 10, \"na\": 11, \"mg\": 12, \"al\": 13, \n",
    "\"si\": 14, \"p\": 15, \"s\": 16, \"cl\": 17, \"ar\": 18, \"k\": 19, \"ca\": 20, \"sc\": 21, \"ti\": 22, \"v\": 23, \"cr\": 24, \"mn\": 25, \"fe\": 26,\n",
    " \"co\": 27, \"ni\": 28, \"cu\": 29, \"zn\": 30, \"ga\": 31, \"ge\": 32, \"as\": 33, \"se\": 34, \"br\": 35, \"kr\": 36, \"rb\": 37, \"sr\": 38, \"y\": 39,\n",
    "  \"zr\": 40, \"nb\": 41, \"mo\": 42, \"tc\": 43, \"ru\": 44, \"rh\": 45, \"pd\": 46, \"ag\": 47, \"cd\": 48, \"in\": 49, \"sn\": 50, \"sb\": 51, \"te\": 52,\n",
    "   \"i\": 53, \"xe\": 54, \"cs\": 55, \"ba\": 56, \"la\": 57, \"ce\": 58, \"pr\": 59, \"nd\": 60, \"pm\": 61, \"sm\": 62, \"eu\": 63, \"gd\": 64, \"tb\": 65,\n",
    "    \"dy\": 66, \"ho\": 67, \"er\": 68, \"tm\": 69, \"yb\": 70, \"lu\": 71, \"hf\": 72, \"ta\": 73, \"w\": 74, \"re\": 75, \"os\": 76, \"ir\": 77, \"pt\": 78,\n",
    "     \"au\": 79, \"hg\": 80, \"tl\": 81, \"pb\": 82, \"bi\": 83, \"po\": 84, \"at\": 85, \"rn\": 86, \"fr\": 87, \"ra\": 88, \"ac\": 89, \"th\": 90, \"pa\": 91,\n",
    "      \"u\": 92, \"np\": 93, \"pu\": 94, \"am\": 95, \"cm\": 96, \"bk\": 97, \"cf\": 98, \"es\": 99, \"fm\": 100, \"md\": 101, \"no\": 102, \"lr\": 103, \"rf\": 104,\n",
    "       \"db\": 105, \"sg\": 106, \"bh\": 107, \"hs\": 108, \"mt\": 109, \"ds\": 110, \"rg\": 111, \"cn\": 112, \"nh\": 113, \"fl\": 114, \"mc\": 115, \"lv\": 116, \"ts\": 117, \"og\": 118,\n",
    "       \"119\": 119,\"120\": 120,\"121\": 121,\"122\": 122,\"123\": 123,\"124\": 124,\"125\": 125,\"126\": 126,\"127\": 127,\"128\": 128,\"129\": 129,\"130\": 130,\n",
    "       \"131\": 131,\"132\": 132,\"133\": 133,\"134\": 134,\"135\": 135,\"136\": 136}\n",
    "\n",
    "Zele = []\n",
    "Zele.append(\"n\")\n",
    "for key in elements:\n",
    "    Zele.append(key)\n",
    "\n",
    "def getnamebyz(z):\n",
    "    \"\"\"\n",
    "    Get element name by atomic number Z\n",
    "    \n",
    "    Parameters:\n",
    "       z ( int ): Atomic number Z\n",
    "    \"\"\"\n",
    "    return Zele[z]\n",
    "\n",
    "def getZ(input):\n",
    "    \"\"\"\n",
    "    Get atomic number Z by element name\n",
    "    \n",
    "    Parameters:\n",
    "       input ( str ): Element name\n",
    "    \"\"\"\n",
    "    if (input==\"\"):\n",
    "        return -8888\n",
    "    else:\n",
    "        sep=re.split('(\\d+)',input)\n",
    "        if len(sep)==1:\n",
    "            if sep[0]==\"n\":\n",
    "                return int(0)\n",
    "            elif (sep[0]==\"p\" or sep[0]==\"d\" or sep[0]==\"t\"):\n",
    "                return int(1)            \n",
    "            else:\n",
    "                print(\"Something wrong! \",input)\n",
    "        else:\n",
    "            return int(elements[sep[0]])\n",
    "\n",
    "def getA(input):\n",
    "    \"\"\"\n",
    "    Get mass number A by element name\n",
    "    \n",
    "    Parameters:\n",
    "       input ( str ): Element name\n",
    "    \"\"\"\n",
    "    if (input==\"\"):\n",
    "        return -9999\n",
    "    else:\n",
    "        sep=re.split('(\\d+)',input)\n",
    "        if len(sep)==1:\n",
    "            if sep[0]==\"n\":\n",
    "                return 1\n",
    "            elif sep[0]==\"p\":\n",
    "                return 1\n",
    "            elif sep[0]==\"d\":\n",
    "                return 2\n",
    "            elif sep[0]==\"t\":\n",
    "                return 3\n",
    "            else:\n",
    "                print(\"Something wrong! \",input)\n",
    "        else:\n",
    "            return int(sep[1])\n",
    "\n",
    "def drawbox(N,Z,fcolor='None',ecolor='gray', falpha = 1,zorder=-1):\n",
    "    if (zorder>0):\n",
    "        rec = plt.Rectangle((N-0.5,Z-0.5),1,1,facecolor=fcolor,edgecolor=ecolor,alpha = falpha,zorder=zorder)\n",
    "    else:\n",
    "        rec = plt.Rectangle((N-0.5,Z-0.5),1,1,facecolor=fcolor,edgecolor=ecolor,alpha = falpha)\n",
    "    #plt.text(N-0.4,Z-0.1,'$\\mathregular{^{'+str(Z+N)+'}'+elements[Z]+'}$')\n",
    "    return rec \n",
    "\n",
    "\n",
    "def drawarea(Aele,fcolor='None',iswithtext=True):\n",
    "    recs = []\n",
    "    for i in Aele:\n",
    "        for j in range(i[1]-elements[i[0].lower()],i[2]-elements[i[0].lower()]+1):\n",
    "            recs.append(drawbox(j,elements[i[0].lower()],fcolor))\n",
    "    return recs"
   ]
  },
  {
   "cell_type": "code",
   "execution_count": 3,
   "metadata": {},
   "outputs": [],
   "source": [
    "%load_ext autoreload\n",
    "%autoreload 2\n",
    "module_path = os.path.abspath(os.path.join('webnucleo/build')) # or the path to your source code\n",
    "sys.path.insert(0, module_path)"
   ]
  },
  {
   "cell_type": "code",
   "execution_count": 4,
   "metadata": {},
   "outputs": [],
   "source": [
    "import Webnucleo"
   ]
  },
  {
   "cell_type": "code",
   "execution_count": 5,
   "metadata": {},
   "outputs": [],
   "source": [
    "a = Webnucleo.WebnucleoXml(\"databases/webnucleo_nuc_v2.0.xml\")"
   ]
  },
  {
   "cell_type": "code",
   "execution_count": 6,
   "metadata": {},
   "outputs": [
    {
     "name": "stdout",
     "output_type": "stream",
     "text": [
      "35 79 ame11 1.5 -76.0684\n"
     ]
    }
   ],
   "source": [
    "for i in range(len(a.Z())):\n",
    "    if (a.Z()[i]==35 and a.A()[i]==79):\n",
    "        print(a.Z()[i],a.A()[i],a.Source()[i],a.Spin()[i],a.Mass_excess()[i])"
   ]
  },
  {
   "cell_type": "code",
   "execution_count": 7,
   "metadata": {},
   "outputs": [
    {
     "name": "stdout",
     "output_type": "stream",
     "text": [
      "Z A spin mass_excess source \n",
      "1 1 0.5 1 amevp \n",
      "1 2 1 2 amevp \n",
      "2 4 1 3 amevp \n"
     ]
    }
   ],
   "source": [
    "a.UpdateData(\"input_change_webnucleo.csv\",\"test.xml\")"
   ]
  }
 ],
 "metadata": {
  "kernelspec": {
   "display_name": "venv",
   "language": "python",
   "name": "venv"
  },
  "language_info": {
   "codemirror_mode": {
    "name": "ipython",
    "version": 3
   },
   "file_extension": ".py",
   "mimetype": "text/x-python",
   "name": "python",
   "nbconvert_exporter": "python",
   "pygments_lexer": "ipython3",
   "version": "3.6.8"
  }
 },
 "nbformat": 4,
 "nbformat_minor": 2
}
